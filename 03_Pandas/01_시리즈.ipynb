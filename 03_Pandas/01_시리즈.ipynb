{
 "cells": [
  {
   "cell_type": "markdown",
   "metadata": {},
   "source": [
    "# Pandas\n",
    "\n",
    "데이터 프레임을 생성해서 관리할 수 있는 패키지"
   ]
  },
  {
   "cell_type": "code",
   "execution_count": 1,
   "metadata": {},
   "outputs": [],
   "source": [
    "import pandas as pd\n",
    "import numpy as np"
   ]
  },
  {
   "cell_type": "markdown",
   "metadata": {},
   "source": [
    "### 시리즈\n",
    "\n",
    "데이터프레임을 구성하는 특성하나. 1차원 배열과 비슷 "
   ]
  },
  {
   "cell_type": "code",
   "execution_count": 2,
   "metadata": {},
   "outputs": [
    {
     "data": {
      "text/plain": [
       "0    9904312\n",
       "1    3448737\n",
       "2    2890451\n",
       "3    2466052\n",
       "dtype: int64"
      ]
     },
     "execution_count": 2,
     "metadata": {},
     "output_type": "execute_result"
    }
   ],
   "source": [
    "data1 = [9904312, 3448737, 2890451, 2466052]\n",
    "s1 = pd.Series(data1)\n",
    "s1"
   ]
  },
  {
   "cell_type": "code",
   "execution_count": 3,
   "metadata": {},
   "outputs": [
    {
     "data": {
      "text/plain": [
       "서울    9904312\n",
       "부산    3448737\n",
       "인천    2890451\n",
       "대구    2466052\n",
       "dtype: int64"
      ]
     },
     "execution_count": 3,
     "metadata": {},
     "output_type": "execute_result"
    }
   ],
   "source": [
    "data1 = [9904312, 3448737, 2890451, 2466052]\n",
    "index1 = ['서울', '부산', '인천', '대구']\n",
    "s1 = pd.Series(data1, index=index1)\n",
    "s1"
   ]
  },
  {
   "cell_type": "code",
   "execution_count": 4,
   "metadata": {},
   "outputs": [
    {
     "name": "stdout",
     "output_type": "stream",
     "text": [
      "[9904312 3448737 2890451 2466052]\n"
     ]
    }
   ],
   "source": [
    "# 시리즈에서 값만 추출한다.\n",
    "print(s1.values)"
   ]
  },
  {
   "cell_type": "code",
   "execution_count": 5,
   "metadata": {},
   "outputs": [
    {
     "name": "stdout",
     "output_type": "stream",
     "text": [
      "Index(['서울', '부산', '인천', '대구'], dtype='object')\n"
     ]
    }
   ],
   "source": [
    "# ################################################시리즈에서 인덱스만 추출한다.\n",
    "print(s1.index)"
   ]
  },
  {
   "cell_type": "code",
   "execution_count": 6,
   "metadata": {},
   "outputs": [
    {
     "data": {
      "text/plain": [
       "서울    9904312\n",
       "부산    3448737\n",
       "인천    2890451\n",
       "대구    2466052\n",
       "Name: 인구, dtype: int64"
      ]
     },
     "execution_count": 6,
     "metadata": {},
     "output_type": "execute_result"
    }
   ],
   "source": [
    "# 시리즈의 이름을 세팅한다.\n",
    "s1.name = '인구'\n",
    "s1"
   ]
  },
  {
   "cell_type": "markdown",
   "metadata": {},
   "source": [
    "# 시리즈 연산\n",
    "\n",
    "numpy랑 똑같음"
   ]
  },
  {
   "cell_type": "code",
   "execution_count": 7,
   "metadata": {},
   "outputs": [
    {
     "name": "stdout",
     "output_type": "stream",
     "text": [
      "서울    9904312\n",
      "부산    3448737\n",
      "인천    2890451\n",
      "대구    2466052\n",
      "Name: 인구, dtype: int64\n",
      "서울    10904312\n",
      "부산     4448737\n",
      "인천     3890451\n",
      "대구     3466052\n",
      "Name: 인구, dtype: int64\n",
      "서울    10904312\n",
      "부산     4448737\n",
      "인천     3890451\n",
      "대구     3466052\n",
      "Name: 인구, dtype: int64\n",
      "서울    99043120\n",
      "부산    34487370\n",
      "인천    28904510\n",
      "대구    24660520\n",
      "Name: 인구, dtype: int64\n",
      "서울    990431\n",
      "부산    344873\n",
      "인천    289045\n",
      "대구    246605\n",
      "Name: 인구, dtype: int64\n"
     ]
    }
   ],
   "source": [
    "print(s1)\n",
    "print(s1 + 1000000)\n",
    "print(s1 + 1000000)\n",
    "print(s1 * 10)\n",
    "print(s1 // 10)"
   ]
  },
  {
   "cell_type": "markdown",
   "metadata": {},
   "source": [
    "### 시리즈 인덱싱"
   ]
  },
  {
   "cell_type": "code",
   "execution_count": 8,
   "metadata": {},
   "outputs": [
    {
     "data": {
      "text/plain": [
       "서울    9904312\n",
       "부산    3448737\n",
       "인천    2890451\n",
       "대구    2466052\n",
       "Name: 인구, dtype: int64"
      ]
     },
     "execution_count": 8,
     "metadata": {},
     "output_type": "execute_result"
    }
   ],
   "source": [
    "s1"
   ]
  },
  {
   "cell_type": "code",
   "execution_count": 9,
   "metadata": {},
   "outputs": [
    {
     "name": "stdout",
     "output_type": "stream",
     "text": [
      "3448737\n",
      "3448737\n"
     ]
    }
   ],
   "source": [
    "print(s1[1])\n",
    "print(s1['부산'])"
   ]
  },
  {
   "cell_type": "code",
   "execution_count": 10,
   "metadata": {},
   "outputs": [
    {
     "name": "stdout",
     "output_type": "stream",
     "text": [
      "서울    9904312\n",
      "부산    3448737\n",
      "인천    2890451\n",
      "Name: 인구, dtype: int64\n",
      "서울    9904312\n",
      "부산    3448737\n",
      "인천    2890451\n",
      "대구    2466052\n",
      "Name: 인구, dtype: int64\n"
     ]
    }
   ],
   "source": [
    "# 다수의 값을 선택해서 가져온다.\n",
    "print(s1[[0, 1, 2]])\n",
    "print(s1[['서울', '부산', '인천', '대구']])"
   ]
  },
  {
   "cell_type": "code",
   "execution_count": 11,
   "metadata": {},
   "outputs": [
    {
     "name": "stdout",
     "output_type": "stream",
     "text": [
      "인천    2890451\n",
      "서울    9904312\n",
      "부산    3448737\n",
      "Name: 인구, dtype: int64\n",
      "인천    2890451\n",
      "서울    9904312\n",
      "부산    3448737\n",
      "대구    2466052\n",
      "Name: 인구, dtype: int64\n"
     ]
    }
   ],
   "source": [
    "print(s1[[2, 0, 1]])\n",
    "print(s1[['인천', '서울', '부산', '대구']])"
   ]
  },
  {
   "cell_type": "code",
   "execution_count": 12,
   "metadata": {},
   "outputs": [
    {
     "name": "stdout",
     "output_type": "stream",
     "text": [
      "서울    9904312\n",
      "인천    2890451\n",
      "Name: 인구, dtype: int64\n"
     ]
    }
   ],
   "source": [
    "# true나 false가 들어 있는 리스트, 배열, 시리즈를 넣어주면 True에 해당하는 값들만 모아 새로운 시리즈로 생성한다.\n",
    "t1 = [True, False, True, False]\n",
    "print(s1[t1])"
   ]
  },
  {
   "cell_type": "code",
   "execution_count": 13,
   "metadata": {},
   "outputs": [
    {
     "name": "stdout",
     "output_type": "stream",
     "text": [
      "서울    9904312\n",
      "부산    3448737\n",
      "Name: 인구, dtype: int64\n"
     ]
    }
   ],
   "source": [
    "# 시리즈를 가지고 True나 False의 결과를 생성하는 수식을 넣어주면 원하는 조건에 맞느 ㄴ데이터만 가져올 수 있도록 구현할 수 있다.\n",
    "print(s1[s1 > 3000000])"
   ]
  },
  {
   "cell_type": "code",
   "execution_count": 14,
   "metadata": {},
   "outputs": [
    {
     "name": "stdout",
     "output_type": "stream",
     "text": [
      "부산    3448737\n",
      "인천    2890451\n",
      "Name: 인구, dtype: int64\n",
      "서울    9904312\n",
      "부산    3448737\n",
      "인천    2890451\n",
      "Name: 인구, dtype: int64\n"
     ]
    }
   ],
   "source": [
    "# 범위 지정\n",
    "\n",
    "# 1 ~ 3-1\n",
    "print(s1[1:3])\n",
    "\n",
    "#서울 ~ 인천\n",
    "print(s1['서울':'인천'])"
   ]
  },
  {
   "cell_type": "code",
   "execution_count": 15,
   "metadata": {},
   "outputs": [
    {
     "name": "stdout",
     "output_type": "stream",
     "text": [
      "9904312\n",
      "9904312\n"
     ]
    }
   ],
   "source": [
    "# 만약 시리즈의 인덱스가 문자열로 되어 있다면 . 을 통해서 가져올 수 있다.\n",
    "print(s1['서울'])\n",
    "print(s1.서울)"
   ]
  },
  {
   "cell_type": "code",
   "execution_count": 16,
   "metadata": {},
   "outputs": [
    {
     "data": {
      "text/plain": [
       "0    9904312\n",
       "1    3448737\n",
       "2    2890451\n",
       "3    2466052\n",
       "dtype: int64"
      ]
     },
     "execution_count": 16,
     "metadata": {},
     "output_type": "execute_result"
    }
   ],
   "source": [
    "# 시리즈의 인덱스가 숫자로 되어있다면...\n",
    "data2 = [9904312, 3448737, 2890451, 2466052]\n",
    "s2 = pd.Series(data1)\n",
    "s2"
   ]
  },
  {
   "cell_type": "code",
   "execution_count": 18,
   "metadata": {},
   "outputs": [
    {
     "name": "stdout",
     "output_type": "stream",
     "text": [
      "9904312\n",
      "3448737\n",
      "2890451\n",
      "2466052\n"
     ]
    }
   ],
   "source": [
    "for value in s2 :\n",
    "    print(value)"
   ]
  },
  {
   "cell_type": "code",
   "execution_count": 19,
   "metadata": {},
   "outputs": [
    {
     "data": {
      "text/plain": [
       "서울    9904312\n",
       "부산    3448737\n",
       "인천    2890451\n",
       "대구    2466052\n",
       "dtype: int64"
      ]
     },
     "execution_count": 19,
     "metadata": {},
     "output_type": "execute_result"
    }
   ],
   "source": [
    "# 시리즈의 인덱스가 문자열로 되어 있다면\n",
    "data3 = [9904312, 3448737, 2890451, 2466052]\n",
    "index3 = ['서울', '부산', '인천', '대구']\n",
    "s3 = pd.Series(data1, index=index1)\n",
    "s3"
   ]
  },
  {
   "cell_type": "code",
   "execution_count": 20,
   "metadata": {},
   "outputs": [
    {
     "name": "stdout",
     "output_type": "stream",
     "text": [
      "9904312\n",
      "3448737\n",
      "2890451\n",
      "2466052\n"
     ]
    }
   ],
   "source": [
    "for value in s3 :\n",
    "    print(value)"
   ]
  },
  {
   "cell_type": "code",
   "execution_count": 21,
   "metadata": {},
   "outputs": [
    {
     "name": "stdout",
     "output_type": "stream",
     "text": [
      "서울 9904312\n",
      "부산 3448737\n",
      "인천 2890451\n",
      "대구 2466052\n"
     ]
    }
   ],
   "source": [
    "for key, value in s3.items() :\n",
    "    print(key, value)"
   ]
  },
  {
   "cell_type": "code",
   "execution_count": 24,
   "metadata": {},
   "outputs": [
    {
     "name": "stdout",
     "output_type": "stream",
     "text": [
      "v1    100\n",
      "v2    200\n",
      "v3    300\n",
      "v4    400\n",
      "v5    500\n",
      "dtype: int64\n"
     ]
    }
   ],
   "source": [
    "# 시리즈 생성\n",
    "s10 = pd.Series([100, 200, 300, 400, 500], index=['v1', 'v2', 'v3', 'v4', 'v5'])\n",
    "print(s10)"
   ]
  },
  {
   "cell_type": "code",
   "execution_count": 26,
   "metadata": {},
   "outputs": [
    {
     "data": {
      "text/plain": [
       "v1    100\n",
       "v2    200\n",
       "v3    300\n",
       "dtype: int64"
      ]
     },
     "execution_count": 26,
     "metadata": {},
     "output_type": "execute_result"
    }
   ],
   "source": [
    "s20 = pd.Series({'v1':100, 'v2':200, 'v3':300})\n",
    "s20"
   ]
  },
  {
   "cell_type": "code",
   "execution_count": 29,
   "metadata": {},
   "outputs": [
    {
     "data": {
      "text/plain": [
       "v2    200\n",
       "v3    300\n",
       "v1    100\n",
       "dtype: int64"
      ]
     },
     "execution_count": 29,
     "metadata": {},
     "output_type": "execute_result"
    }
   ],
   "source": [
    "# index를 따로 세팅해주면 세팅한 순서대로 시리즈가 만들어지며 존재하지 않는 index의 경의 결측치로 채워진다.\n",
    "s30 = pd.Series({'v1':100, 'v2':200, 'v3':300}, index=['v2', 'v3', 'v1'])\n",
    "s30"
   ]
  },
  {
   "cell_type": "markdown",
   "metadata": {},
   "source": [
    "### 시리즈 연산"
   ]
  },
  {
   "cell_type": "code",
   "execution_count": 30,
   "metadata": {},
   "outputs": [],
   "source": [
    "s100 = pd.Series([10, 20, 30], index=['a1', 'a2', 'a3'])\n",
    "s200 = pd.Series([40, 50, 60], index=['a2', 'a3', 'a4'])"
   ]
  },
  {
   "cell_type": "code",
   "execution_count": 31,
   "metadata": {},
   "outputs": [
    {
     "name": "stdout",
     "output_type": "stream",
     "text": [
      "a1    10\n",
      "a2    20\n",
      "a3    30\n",
      "dtype: int64\n",
      "a2    40\n",
      "a3    50\n",
      "a4    60\n",
      "dtype: int64\n"
     ]
    }
   ],
   "source": [
    "print(s100)\n",
    "print(s200)"
   ]
  },
  {
   "cell_type": "code",
   "execution_count": 32,
   "metadata": {},
   "outputs": [
    {
     "data": {
      "text/plain": [
       "a1     NaN\n",
       "a2    60.0\n",
       "a3    80.0\n",
       "a4     NaN\n",
       "dtype: float64"
      ]
     },
     "execution_count": 32,
     "metadata": {},
     "output_type": "execute_result"
    }
   ],
   "source": [
    "r1 = s100 + s200\n",
    "r1"
   ]
  },
  {
   "cell_type": "code",
   "execution_count": 35,
   "metadata": {},
   "outputs": [
    {
     "name": "stdout",
     "output_type": "stream",
     "text": [
      "[10 20 30]\n",
      "[40 50 60]\n",
      "[50 70 90]\n"
     ]
    }
   ],
   "source": [
    "r2 = s100.values + s200.values\n",
    "print(s100.values)\n",
    "print(s200.values)\n",
    "print(r2)"
   ]
  },
  {
   "cell_type": "code",
   "execution_count": 37,
   "metadata": {},
   "outputs": [
    {
     "name": "stdout",
     "output_type": "stream",
     "text": [
      "a1    50.0\n",
      "a2    70.0\n",
      "a3     NaN\n",
      "dtype: float64\n"
     ]
    }
   ],
   "source": [
    "s300 = pd.Series([10, 20, 30], index=['a1', 'a2', 'a3'])\n",
    "s400 = pd.Series([40, 50], index=['a1', 'a2'])\n",
    "print(s300 +s400)"
   ]
  },
  {
   "cell_type": "code",
   "execution_count": 40,
   "metadata": {},
   "outputs": [
    {
     "data": {
      "text/plain": [
       "a1     True\n",
       "a2     True\n",
       "a3    False\n",
       "dtype: bool"
      ]
     },
     "execution_count": 40,
     "metadata": {},
     "output_type": "execute_result"
    }
   ],
   "source": [
    "(s300 + s400).notnull()"
   ]
  },
  {
   "cell_type": "code",
   "execution_count": 41,
   "metadata": {},
   "outputs": [
    {
     "name": "stdout",
     "output_type": "stream",
     "text": [
      "a1    50.0\n",
      "a2    70.0\n",
      "dtype: float64\n",
      "a1    50.0\n",
      "a2    70.0\n",
      "a3     0.0\n",
      "dtype: float64\n"
     ]
    }
   ],
   "source": [
    "# 계산 후 결측치 부분을 제외하고 가져온다.\n",
    "r100 = s300 + s400\n",
    "print(r100[r100.notnull()])\n",
    "\n",
    "# 결측치 부분을 원하는 값으로 채워준다\n",
    "print(r100.fillna(0))"
   ]
  },
  {
   "cell_type": "markdown",
   "metadata": {},
   "source": [
    "### 갱신추가 삭제"
   ]
  },
  {
   "cell_type": "code",
   "execution_count": 42,
   "metadata": {},
   "outputs": [
    {
     "data": {
      "text/plain": [
       "v1    10\n",
       "v2    20\n",
       "v3    30\n",
       "dtype: int64"
      ]
     },
     "execution_count": 42,
     "metadata": {},
     "output_type": "execute_result"
    }
   ],
   "source": [
    "s500 = pd.Series([10, 20, 30], index=['v1', 'v2', 'v3'])\n",
    "s500"
   ]
  },
  {
   "cell_type": "code",
   "execution_count": 43,
   "metadata": {},
   "outputs": [
    {
     "data": {
      "text/plain": [
       "v1    100\n",
       "v2     20\n",
       "v3     30\n",
       "dtype: int64"
      ]
     },
     "execution_count": 43,
     "metadata": {},
     "output_type": "execute_result"
    }
   ],
   "source": [
    "s500['v1'] = 100\n",
    "s500"
   ]
  },
  {
   "cell_type": "code",
   "execution_count": 44,
   "metadata": {},
   "outputs": [
    {
     "data": {
      "text/plain": [
       "v1    100\n",
       "v2     20\n",
       "v3     30\n",
       "v4     40\n",
       "dtype: int64"
      ]
     },
     "execution_count": 44,
     "metadata": {},
     "output_type": "execute_result"
    }
   ],
   "source": [
    "s500['v4'] = 40\n",
    "s500"
   ]
  },
  {
   "cell_type": "code",
   "execution_count": 45,
   "metadata": {},
   "outputs": [
    {
     "data": {
      "text/plain": [
       "v1    100\n",
       "v2     20\n",
       "v3     30\n",
       "dtype: int64"
      ]
     },
     "execution_count": 45,
     "metadata": {},
     "output_type": "execute_result"
    }
   ],
   "source": [
    "del s500['v4']\n",
    "s500"
   ]
  },
  {
   "cell_type": "code",
   "execution_count": null,
   "metadata": {},
   "outputs": [],
   "source": []
  }
 ],
 "metadata": {
  "kernelspec": {
   "display_name": "Python 3",
   "language": "python",
   "name": "python3"
  },
  "language_info": {
   "codemirror_mode": {
    "name": "ipython",
    "version": 3
   },
   "file_extension": ".py",
   "mimetype": "text/x-python",
   "name": "python",
   "nbconvert_exporter": "python",
   "pygments_lexer": "ipython3",
   "version": "3.7.6"
  }
 },
 "nbformat": 4,
 "nbformat_minor": 4
}
